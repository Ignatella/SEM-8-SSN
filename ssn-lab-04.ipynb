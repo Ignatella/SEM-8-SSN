{
 "cells": [
  {
   "cell_type": "code",
   "execution_count": 1,
   "metadata": {},
   "outputs": [
    {
     "name": "stdout",
     "output_type": "stream",
     "text": [
      "Mon Apr  1 19:08:15 2024       \n",
      "+---------------------------------------------------------------------------------------+\n",
      "| NVIDIA-SMI 535.161.07             Driver Version: 535.161.07   CUDA Version: 12.2     |\n",
      "|-----------------------------------------+----------------------+----------------------+\n",
      "| GPU  Name                 Persistence-M | Bus-Id        Disp.A | Volatile Uncorr. ECC |\n",
      "| Fan  Temp   Perf          Pwr:Usage/Cap |         Memory-Usage | GPU-Util  Compute M. |\n",
      "|                                         |                      |               MIG M. |\n",
      "|=========================================+======================+======================|\n",
      "|   0  NVIDIA GeForce MX150           On  | 00000000:01:00.0 Off |                  N/A |\n",
      "| N/A   51C    P8              N/A / ERR! |      4MiB /  2048MiB |      0%      Default |\n",
      "|                                         |                      |                  N/A |\n",
      "+-----------------------------------------+----------------------+----------------------+\n",
      "                                                                                         \n",
      "+---------------------------------------------------------------------------------------+\n",
      "| Processes:                                                                            |\n",
      "|  GPU   GI   CI        PID   Type   Process name                            GPU Memory |\n",
      "|        ID   ID                                                             Usage      |\n",
      "|=======================================================================================|\n",
      "|    0   N/A  N/A      4746      G   /usr/lib/xorg/Xorg                            4MiB |\n",
      "+---------------------------------------------------------------------------------------+\n"
     ]
    }
   ],
   "source": [
    "!nvidia-smi"
   ]
  },
  {
   "cell_type": "code",
   "execution_count": 2,
   "metadata": {},
   "outputs": [
    {
     "data": {
      "text/plain": [
       "'NVIDIA GeForce MX150'"
      ]
     },
     "execution_count": 2,
     "metadata": {},
     "output_type": "execute_result"
    }
   ],
   "source": [
    "import torch\n",
    "\n",
    "torch.cuda.get_device_name(0)"
   ]
  },
  {
   "cell_type": "code",
   "execution_count": 3,
   "metadata": {},
   "outputs": [
    {
     "data": {
      "text/plain": [
       "True"
      ]
     },
     "execution_count": 3,
     "metadata": {},
     "output_type": "execute_result"
    }
   ],
   "source": [
    "torch.cuda.is_available()"
   ]
  },
  {
   "cell_type": "code",
   "execution_count": 4,
   "metadata": {},
   "outputs": [
    {
     "data": {
      "text/plain": [
       "4"
      ]
     },
     "execution_count": 4,
     "metadata": {},
     "output_type": "execute_result"
    }
   ],
   "source": [
    "torch.get_num_threads()"
   ]
  },
  {
   "cell_type": "code",
   "execution_count": 5,
   "metadata": {},
   "outputs": [],
   "source": [
    "import torch.nn as nn\n",
    "import numpy as np\n",
    "import matplotlib.pyplot as plt\n",
    "import pandas as pd\n",
    "import torch.utils.data as data"
   ]
  },
  {
   "cell_type": "markdown",
   "metadata": {},
   "source": [
    "### Zad 1"
   ]
  },
  {
   "cell_type": "code",
   "execution_count": 6,
   "metadata": {},
   "outputs": [],
   "source": [
    "# LSTM\n",
    "\n",
    "class LSTM(nn.Module):\n",
    "    def __init__(self, input_size, hidden_size, num_layers, output_size):\n",
    "        super(LSTM, self).__init__()\n",
    "        self.input_size = input_size\n",
    "        self.hidden_size = hidden_size\n",
    "        self.num_layers = num_layers\n",
    "        self.output_size = output_size\n",
    "\n",
    "        self.lstm = nn.LSTM(self.input_size, self.hidden_size, self.num_layers, batch_first=True)\n",
    "        self.linear = nn.Linear(self.hidden_size, self.output_size)\n",
    "\n",
    "    def forward(self, x):\n",
    "        x, _ = self.lstm(x)\n",
    "        x = self.linear(x)\n",
    "        return x"
   ]
  },
  {
   "cell_type": "code",
   "execution_count": 7,
   "metadata": {},
   "outputs": [
    {
     "data": {
      "text/html": [
       "<div>\n",
       "<style scoped>\n",
       "    .dataframe tbody tr th:only-of-type {\n",
       "        vertical-align: middle;\n",
       "    }\n",
       "\n",
       "    .dataframe tbody tr th {\n",
       "        vertical-align: top;\n",
       "    }\n",
       "\n",
       "    .dataframe thead th {\n",
       "        text-align: right;\n",
       "    }\n",
       "</style>\n",
       "<table border=\"1\" class=\"dataframe\">\n",
       "  <thead>\n",
       "    <tr style=\"text-align: right;\">\n",
       "      <th></th>\n",
       "      <th>Month</th>\n",
       "      <th>Passengers</th>\n",
       "    </tr>\n",
       "  </thead>\n",
       "  <tbody>\n",
       "    <tr>\n",
       "      <th>0</th>\n",
       "      <td>1949-01</td>\n",
       "      <td>112.0</td>\n",
       "    </tr>\n",
       "    <tr>\n",
       "      <th>1</th>\n",
       "      <td>1949-02</td>\n",
       "      <td>118.0</td>\n",
       "    </tr>\n",
       "    <tr>\n",
       "      <th>2</th>\n",
       "      <td>1949-03</td>\n",
       "      <td>132.0</td>\n",
       "    </tr>\n",
       "    <tr>\n",
       "      <th>3</th>\n",
       "      <td>1949-04</td>\n",
       "      <td>129.0</td>\n",
       "    </tr>\n",
       "    <tr>\n",
       "      <th>4</th>\n",
       "      <td>1949-05</td>\n",
       "      <td>121.0</td>\n",
       "    </tr>\n",
       "  </tbody>\n",
       "</table>\n",
       "</div>"
      ],
      "text/plain": [
       "     Month  Passengers\n",
       "0  1949-01       112.0\n",
       "1  1949-02       118.0\n",
       "2  1949-03       132.0\n",
       "3  1949-04       129.0\n",
       "4  1949-05       121.0"
      ]
     },
     "execution_count": 7,
     "metadata": {},
     "output_type": "execute_result"
    }
   ],
   "source": [
    "# read data from ariline-passangers.csv. \n",
    "df = pd.read_csv('airline-passengers.csv')\n",
    "df[\"Passengers\"] = df[\"Passengers\"].apply(lambda x: float(x))\n",
    "\n",
    "df.head()"
   ]
  },
  {
   "cell_type": "code",
   "execution_count": 8,
   "metadata": {},
   "outputs": [
    {
     "data": {
      "text/plain": [
       "Month          object\n",
       "Passengers    float64\n",
       "dtype: object"
      ]
     },
     "execution_count": 8,
     "metadata": {},
     "output_type": "execute_result"
    }
   ],
   "source": [
    "# print df data types\n",
    "df.dtypes"
   ]
  },
  {
   "cell_type": "code",
   "execution_count": 20,
   "metadata": {},
   "outputs": [
    {
     "data": {
      "image/png": "[encoded data removed]",
      "text/plain": [
       "<Figure size 640x480 with 1 Axes>"
      ]
     },
     "metadata": {},
     "output_type": "display_data"
    }
   ],
   "source": [
    "plt.plot(df['Passengers'])\n",
    "plt.title('Passengers')\n",
    "plt.show()"
   ]
  },
  {
   "cell_type": "code",
   "execution_count": 10,
   "metadata": {},
   "outputs": [],
   "source": [
    "from torch.utils.data import Dataset\n",
    "\n",
    "class FunctionDataset:\n",
    "    class SequenceDs(Dataset):\n",
    "        def __init__(self, X, y) -> None:\n",
    "            super().__init__()\n",
    "            self.X = X\n",
    "            self.y = y\n",
    "\n",
    "        def __len__(self):\n",
    "            return len(self.y)\n",
    "\n",
    "        def __getitem__(self, index) -> tuple[torch.Tensor, torch.Tensor]:\n",
    "            return torch.tensor(self.X[index]).float(), torch.tensor(self.y[index]).float()\n",
    "\n",
    "    def __init__(self, y_f, lookback, split_ratio=0.7):\n",
    "\n",
    "        self.y_f = y_f\n",
    "        self.total_samples = len(y_f)\n",
    "        self.lookback = lookback\n",
    "\n",
    "        X, y = self.generate_sequence(self.y_f, self.lookback)\n",
    "\n",
    "\n",
    "        # split into train, validation and test set\n",
    "        self.X = X[:int((self.total_samples - lookback) * split_ratio)]\n",
    "        self.X_test = X[int((self.total_samples - lookback) *split_ratio):]\n",
    "\n",
    "        self.y = y[:int((self.total_samples - lookback) * split_ratio)]\n",
    "        self.y_test = y[int((self.total_samples - lookback) * split_ratio):]\n",
    "\n",
    "        print(f'[Dataset]: total samples {self.total_samples}, sequence length {self.lookback}, total sequences {len(X)}, split ratio {split_ratio}, train {len(self.X)}, test {len(self.X_test)}')\n",
    "\n",
    "    def generate_sequence(self, y, l):\n",
    "        X_seq = []\n",
    "        y_seq = []\n",
    "        for i in range(len(y) - l):\n",
    "            X_seq.append(y[i:i+l])\n",
    "            y_seq.append(y[i+1:i+l+1])\n",
    "        return np.array(X_seq), np.array(y_seq)\n",
    "\n",
    "    def get_train_ds(self):\n",
    "        return self.SequenceDs(self.X, self.y)\n",
    "\n",
    "    def get_test_ds(self):\n",
    "        return self.SequenceDs(self.X_test, self.y_test)"
   ]
  },
  {
   "cell_type": "code",
   "execution_count": 11,
   "metadata": {},
   "outputs": [],
   "source": [
    "import time\n",
    "\n",
    "def train(net, trainloader, testloader, criterion, optimizer, epochs, points_to_print=20):\n",
    "    learning_start = time.time()\n",
    "\n",
    "    net.train()\n",
    "\n",
    "    print_every_n_batches = max(1, round(epochs * len(trainloader) / points_to_print))\n",
    "    print('Print every %d batches' % print_every_n_batches)\n",
    "\n",
    "    for epoch in range(epochs):\n",
    "        # train\n",
    "        for i, data in enumerate(trainloader, 0):\n",
    "            net.train()\n",
    "\n",
    "            X, y = data\n",
    "\n",
    "            X = X.unsqueeze(2).cuda()\n",
    "            y = y.unsqueeze(2).cuda()\n",
    "\n",
    "            optimizer.zero_grad()\n",
    "\n",
    "            # forward + backward + optimize\n",
    "            outputs = net(X)\n",
    "            loss = criterion(outputs, y)\n",
    "            loss.backward()\n",
    "            nn.utils.clip_grad_norm_(net.parameters(), 3)\n",
    "            optimizer.step()\n",
    "\n",
    "\n",
    "            if (epoch * len(trainloader) + (i + 1)) % print_every_n_batches == print_every_n_batches - 1:\n",
    "\n",
    "                # validate\n",
    "                net.eval()\n",
    "\n",
    "                train_loss = 0.0\n",
    "                val_loss = 0.0\n",
    "\n",
    "                with torch.no_grad():\n",
    "                    for _, data in enumerate(trainloader, 0):\n",
    "                        X, y = data\n",
    "\n",
    "                        X = X.unsqueeze(2).cuda()\n",
    "                        y = y.unsqueeze(2).cuda()\n",
    "\n",
    "                        outputs = net(X)\n",
    "                        loss = criterion(outputs, y)\n",
    "\n",
    "                        train_loss += loss.item()\n",
    "\n",
    "                    for _, data in enumerate(testloader, 0):\n",
    "                        X, y = data\n",
    "\n",
    "                        X = X.unsqueeze(2).cuda()\n",
    "                        y = y.unsqueeze(2).cuda()\n",
    "\n",
    "                        outputs = net(X)\n",
    "                        loss = criterion(outputs, y)\n",
    "\n",
    "                        val_loss += loss.item()\n",
    "\n",
    "\n",
    "                print('[%4d, %4d] train RMSE: %.6g, test RMSE: %.6g' % (epoch + 1, i + 1, np.sqrt(train_loss / len(trainloader)), np.sqrt(val_loss / len(testloader))))\n",
    "\n",
    "\n",
    "    learning_end = time.time()\n",
    "\n",
    "    return learning_end - learning_start"
   ]
  },
  {
   "cell_type": "code",
   "execution_count": 12,
   "metadata": {},
   "outputs": [],
   "source": [
    "batch_size = 8\n",
    "epochs = 2000"
   ]
  },
  {
   "cell_type": "code",
   "execution_count": 13,
   "metadata": {},
   "outputs": [
    {
     "name": "stdout",
     "output_type": "stream",
     "text": [
      "[Dataset]: total samples 144, sequence length 4, total sequences 140, split ratio 0.7, train 98, test 42\n"
     ]
    }
   ],
   "source": [
    "ds = FunctionDataset(df['Passengers'], lookback=4)\n",
    "\n",
    "train_loader = data.DataLoader(ds.get_train_ds(), shuffle=False, batch_size=batch_size)\n",
    "test_loader = data.DataLoader(ds.get_test_ds(), shuffle=False, batch_size=batch_size)"
   ]
  },
  {
   "cell_type": "code",
   "execution_count": 14,
   "metadata": {},
   "outputs": [
    {
     "data": {
      "text/plain": [
       "(13, 6)"
      ]
     },
     "execution_count": 14,
     "metadata": {},
     "output_type": "execute_result"
    }
   ],
   "source": [
    "len(train_loader), len(test_loader)"
   ]
  },
  {
   "cell_type": "code",
   "execution_count": 15,
   "metadata": {},
   "outputs": [
    {
     "name": "stdout",
     "output_type": "stream",
     "text": [
      "Print every 1300 batches\n",
      "[100,    12] train RMSE: 192.161, test RMSE: 381.547\n",
      "[200,    12] train RMSE: 144.799, test RMSE: 329.174\n",
      "[300,    12] train RMSE: 110.963, test RMSE: 287.256\n",
      "[400,    12] train RMSE: 88.982, test RMSE: 256.287\n",
      "[500,    12] train RMSE: 73.3716, test RMSE: 230.79\n",
      "[600,    12] train RMSE: 63.0055, test RMSE: 212.768\n",
      "[700,    12] train RMSE: 55.2857, test RMSE: 198.898\n",
      "[800,    12] train RMSE: 51.1795, test RMSE: 191.489\n",
      "[900,    12] train RMSE: 48.3654, test RMSE: 186.268\n",
      "[1000,    12] train RMSE: 44.1117, test RMSE: 177.222\n",
      "[1100,    12] train RMSE: 39.6245, test RMSE: 166.045\n",
      "[1200,    12] train RMSE: 35.5305, test RMSE: 154.486\n",
      "[1300,    12] train RMSE: 32.1653, test RMSE: 144.14\n",
      "[1400,    12] train RMSE: 29.5539, test RMSE: 135.614\n",
      "[1500,    12] train RMSE: 28.1353, test RMSE: 129.166\n",
      "[1600,    12] train RMSE: 26.5208, test RMSE: 122.85\n",
      "[1700,    12] train RMSE: 25.7119, test RMSE: 116.529\n",
      "[1800,    12] train RMSE: 24.7787, test RMSE: 112.135\n",
      "[1900,    12] train RMSE: 23.7777, test RMSE: 107.909\n",
      "[2000,    12] train RMSE: 23.5294, test RMSE: 104.719\n",
      "Learning time: 55.93 seconds\n"
     ]
    }
   ],
   "source": [
    "# model z zajec\n",
    "net = LSTM(input_size=1, hidden_size=50, num_layers=1, output_size=1).cuda()\n",
    "optimizer = torch.optim.Adam(net.parameters(), lr=0.001)\n",
    "criterion = nn.MSELoss()\n",
    "\n",
    "learning_time = train(net, train_loader, test_loader, criterion, optimizer, epochs)\n",
    "print('Learning time: %.2f seconds' % learning_time)"
   ]
  },
  {
   "cell_type": "code",
   "execution_count": 16,
   "metadata": {},
   "outputs": [],
   "source": [
    "def predict(net, loader, criterion):\n",
    "    net.eval()\n",
    "\n",
    "    preds = []\n",
    "    loss = 0.0\n",
    "\n",
    "    with torch.no_grad():\n",
    "        for i, data in enumerate(loader, 0):\n",
    "            X, y = data\n",
    "\n",
    "            X = X.unsqueeze(2).cuda()\n",
    "            y = y.unsqueeze(2).cuda()\n",
    "\n",
    "            outputs = net(X)\n",
    "            loss += criterion(outputs, y).item()\n",
    "\n",
    "            # append joined outpus\n",
    "            preds = np.concatenate((preds, outputs[:, -1, :].cpu().numpy().flatten()))\n",
    "\n",
    "    return loss / len(loader), preds"
   ]
  },
  {
   "cell_type": "code",
   "execution_count": 17,
   "metadata": {},
   "outputs": [],
   "source": [
    "train_predict_loss, train_preds = predict(net, train_loader, criterion)\n",
    "# test_predict_loss, test_preds = predict(net, test_loader, criterion)"
   ]
  },
  {
   "cell_type": "code",
   "execution_count": 18,
   "metadata": {},
   "outputs": [],
   "source": [
    "def plot_model_results(actual, train_preds):\n",
    "    plt.plot(actual, label='Actual')\n",
    "    # plot train with red, test with green\n",
    "    plt.plot(train_preds, label='Train predicted', color='red')\n",
    "    # plt.plot(test_preds, label='Test predicted', color='green')\n",
    "\n",
    "    plt.show()"
   ]
  },
  {
   "cell_type": "code",
   "execution_count": 19,
   "metadata": {},
   "outputs": [
    {
     "data": {
      "image/png": "[encoded data removed]",
      "text/plain": [
       "<Figure size 640x480 with 1 Axes>"
      ]
     },
     "metadata": {},
     "output_type": "display_data"
    }
   ],
   "source": [
    "plot_model_results(df['Passengers'], train_preds)"
   ]
  }
 ],
 "metadata": {
  "kernelspec": {
   "display_name": "MIO",
   "language": "python",
   "name": "python3"
  },
  "language_info": {
   "codemirror_mode": {
    "name": "ipython",
    "version": 3
   },
   "file_extension": ".py",
   "mimetype": "text/x-python",
   "name": "python",
   "nbconvert_exporter": "python",
   "pygments_lexer": "ipython3",
   "version": "3.10.13"
  }
 },
 "nbformat": 4,
 "nbformat_minor": 2
}
