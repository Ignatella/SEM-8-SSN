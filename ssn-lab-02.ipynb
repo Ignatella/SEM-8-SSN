{
 "cells": [
  {
   "cell_type": "code",
   "execution_count": 7,
   "metadata": {},
   "outputs": [
    {
     "name": "stdout",
     "output_type": "stream",
     "text": [
      "Wed Mar 13 18:00:56 2024       \n",
      "+---------------------------------------------------------------------------------------+\n",
      "| NVIDIA-SMI 535.161.07             Driver Version: 535.161.07   CUDA Version: 12.2     |\n",
      "|-----------------------------------------+----------------------+----------------------+\n",
      "| GPU  Name                 Persistence-M | Bus-Id        Disp.A | Volatile Uncorr. ECC |\n",
      "| Fan  Temp   Perf          Pwr:Usage/Cap |         Memory-Usage | GPU-Util  Compute M. |\n",
      "|                                         |                      |               MIG M. |\n",
      "|=========================================+======================+======================|\n",
      "|   0  NVIDIA GeForce MX150           On  | 00000000:01:00.0 Off |                  N/A |\n",
      "| N/A   39C    P8              N/A / ERR! |      6MiB /  2048MiB |      0%      Default |\n",
      "|                                         |                      |                  N/A |\n",
      "+-----------------------------------------+----------------------+----------------------+\n",
      "                                                                                         \n",
      "+---------------------------------------------------------------------------------------+\n",
      "| Processes:                                                                            |\n",
      "|  GPU   GI   CI        PID   Type   Process name                            GPU Memory |\n",
      "|        ID   ID                                                             Usage      |\n",
      "|=======================================================================================|\n",
      "|    0   N/A  N/A      3556      G   /usr/lib/xorg/Xorg                            4MiB |\n",
      "+---------------------------------------------------------------------------------------+\n"
     ]
    }
   ],
   "source": [
    "!nvidia-smi"
   ]
  },
  {
   "cell_type": "code",
   "execution_count": 8,
   "metadata": {},
   "outputs": [
    {
     "data": {
      "text/plain": [
       "'NVIDIA GeForce MX150'"
      ]
     },
     "execution_count": 8,
     "metadata": {},
     "output_type": "execute_result"
    }
   ],
   "source": [
    "import torch\n",
    "import torch.nn as nn\n",
    "\n",
    "torch.cuda.get_device_name(0)"
   ]
  },
  {
   "cell_type": "code",
   "execution_count": 9,
   "metadata": {},
   "outputs": [
    {
     "data": {
      "text/plain": [
       "True"
      ]
     },
     "execution_count": 9,
     "metadata": {},
     "output_type": "execute_result"
    }
   ],
   "source": [
    "torch.cuda.is_available()"
   ]
  },
  {
   "cell_type": "code",
   "execution_count": 14,
   "metadata": {},
   "outputs": [
    {
     "data": {
      "text/plain": [
       "4"
      ]
     },
     "execution_count": 14,
     "metadata": {},
     "output_type": "execute_result"
    }
   ],
   "source": [
    "torch.get_num_threads()"
   ]
  },
  {
   "cell_type": "code",
   "execution_count": 10,
   "metadata": {},
   "outputs": [],
   "source": [
    "# download mnist \n",
    "import torchvision\n",
    "import torchvision.transforms as transforms\n",
    "\n",
    "transform_train = transforms.Compose([\n",
    "    transforms.RandomHorizontalFlip(),\n",
    "    transforms.ToTensor(),\n",
    "    transforms.Normalize((0.5), (0.5))\n",
    "])\n",
    "\n",
    "transform_test = transforms.Compose([\n",
    "    transforms.ToTensor(),\n",
    "    transforms.Normalize((0.5), (0.5))\n",
    "])\n",
    "\n",
    "trainset = torchvision.datasets.MNIST(root='./data', train=True, download=True, transform=transform_train)\n",
    "trainloader = torch.utils.data.DataLoader(trainset, batch_size=124, shuffle=True)\n",
    "\n",
    "testset = torchvision.datasets.MNIST(root='./data', train=False, download=True, transform=transform_test)\n",
    "testloader = torch.utils.data.DataLoader(testset, batch_size=32, shuffle=False)"
   ]
  },
  {
   "cell_type": "code",
   "execution_count": 11,
   "metadata": {},
   "outputs": [
    {
     "data": {
      "image/png": "[encoded data removed]",
      "text/plain": [
       "<Figure size 1200x600 with 6 Axes>"
      ]
     },
     "metadata": {},
     "output_type": "display_data"
    }
   ],
   "source": [
    "import matplotlib.pyplot as plt\n",
    "\n",
    "import numpy as np\n",
    "\n",
    "dataiter = iter(trainloader)\n",
    "images, labels = next(dataiter)\n",
    "\n",
    "num_images = 6\n",
    "\n",
    "fig, axes = plt.subplots(1, num_images, figsize=(12, 6))\n",
    "\n",
    "for i in range(num_images):\n",
    "    image = images[i].squeeze().cpu().numpy()\n",
    "    label = labels[i].item()\n",
    "    \n",
    "    axes[i].imshow(image, cmap='gray')\n",
    "    axes[i].set_title(f'Label: {label}')\n",
    "    axes[i].axis('off')\n",
    "\n",
    "plt.show()"
   ]
  },
  {
   "cell_type": "code",
   "execution_count": 12,
   "metadata": {},
   "outputs": [],
   "source": [
    "# define model\n",
    "import torch.nn.functional as F\n",
    "\n",
    "class Net(nn.Module):\n",
    "    def __init__(self):\n",
    "        super(Net, self).__init__()\n",
    "        \n",
    "        self.conv_block1 = nn.Sequential(\n",
    "            nn.Conv2d(1, 6, 5),\n",
    "            nn.ReLU(),\n",
    "            nn.MaxPool2d(2, 2)\n",
    "        )\n",
    "        \n",
    "        self.conv_block2 = nn.Sequential(\n",
    "            nn.Conv2d(6, 16, 5),\n",
    "            nn.ReLU(),\n",
    "            nn.MaxPool2d(2, 2)\n",
    "        )\n",
    "        \n",
    "        self.fc1 = nn.Linear(16 * 4 * 4, 120)\n",
    "        self.fc2 = nn.Linear(120, 84)\n",
    "        self.fc3 = nn.Linear(84, 10)\n",
    "\n",
    "    def forward(self, x):\n",
    "        x = self.conv_block1(x)\n",
    "        x = self.conv_block2(x)\n",
    "        x = x.view(-1, 16 * 4 * 4)\n",
    "        x = F.relu(self.fc1(x))\n",
    "        x = F.relu(self.fc2(x))\n",
    "        x = self.fc3(x)\n",
    "        return x\n"
   ]
  },
  {
   "cell_type": "code",
   "execution_count": 13,
   "metadata": {},
   "outputs": [
    {
     "name": "stdout",
     "output_type": "stream",
     "text": [
      "[1,    50] loss: 1.719, accuracy: 0.464\n",
      "[1,   100] loss: 0.729, accuracy: 0.764\n",
      "[1,   150] loss: 0.562, accuracy: 0.815\n",
      "[1,   200] loss: 0.471, accuracy: 0.846\n",
      "[1,   250] loss: 0.393, accuracy: 0.869\n",
      "[1,   300] loss: 0.346, accuracy: 0.886\n",
      "[1,   350] loss: 0.339, accuracy: 0.891\n",
      "[1,   400] loss: 0.277, accuracy: 0.915\n",
      "[1,   450] loss: 0.238, accuracy: 0.923\n",
      "[2,    50] loss: 0.233, accuracy: 0.926\n",
      "[2,   100] loss: 0.216, accuracy: 0.933\n",
      "[2,   150] loss: 0.193, accuracy: 0.941\n",
      "[2,   200] loss: 0.212, accuracy: 0.932\n",
      "[2,   250] loss: 0.184, accuracy: 0.940\n",
      "[2,   300] loss: 0.181, accuracy: 0.940\n",
      "[2,   350] loss: 0.169, accuracy: 0.947\n",
      "[2,   400] loss: 0.163, accuracy: 0.945\n",
      "[2,   450] loss: 0.167, accuracy: 0.947\n",
      "[3,    50] loss: 0.152, accuracy: 0.953\n",
      "[3,   100] loss: 0.140, accuracy: 0.957\n",
      "[3,   150] loss: 0.149, accuracy: 0.952\n",
      "[3,   200] loss: 0.142, accuracy: 0.956\n",
      "[3,   250] loss: 0.144, accuracy: 0.956\n",
      "[3,   300] loss: 0.132, accuracy: 0.959\n",
      "[3,   350] loss: 0.132, accuracy: 0.960\n",
      "[3,   400] loss: 0.125, accuracy: 0.959\n",
      "[3,   450] loss: 0.139, accuracy: 0.956\n",
      "[4,    50] loss: 0.112, accuracy: 0.965\n",
      "[4,   100] loss: 0.105, accuracy: 0.967\n",
      "[4,   150] loss: 0.124, accuracy: 0.962\n",
      "[4,   200] loss: 0.110, accuracy: 0.969\n",
      "[4,   250] loss: 0.111, accuracy: 0.965\n",
      "[4,   300] loss: 0.112, accuracy: 0.965\n",
      "[4,   350] loss: 0.112, accuracy: 0.965\n",
      "[4,   400] loss: 0.092, accuracy: 0.970\n",
      "[4,   450] loss: 0.097, accuracy: 0.968\n",
      "[5,    50] loss: 0.091, accuracy: 0.970\n",
      "[5,   100] loss: 0.084, accuracy: 0.975\n",
      "[5,   150] loss: 0.100, accuracy: 0.968\n",
      "[5,   200] loss: 0.090, accuracy: 0.973\n",
      "[5,   250] loss: 0.098, accuracy: 0.970\n",
      "[5,   300] loss: 0.095, accuracy: 0.969\n",
      "[5,   350] loss: 0.083, accuracy: 0.971\n",
      "[5,   400] loss: 0.084, accuracy: 0.974\n",
      "[5,   450] loss: 0.092, accuracy: 0.972\n",
      "[6,    50] loss: 0.088, accuracy: 0.973\n",
      "[6,   100] loss: 0.071, accuracy: 0.978\n",
      "[6,   150] loss: 0.074, accuracy: 0.977\n",
      "[6,   200] loss: 0.079, accuracy: 0.973\n",
      "[6,   250] loss: 0.080, accuracy: 0.976\n",
      "[6,   300] loss: 0.073, accuracy: 0.975\n",
      "[6,   350] loss: 0.070, accuracy: 0.977\n",
      "[6,   400] loss: 0.082, accuracy: 0.975\n",
      "[6,   450] loss: 0.078, accuracy: 0.975\n",
      "[7,    50] loss: 0.063, accuracy: 0.981\n",
      "[7,   100] loss: 0.068, accuracy: 0.978\n",
      "[7,   150] loss: 0.071, accuracy: 0.975\n",
      "[7,   200] loss: 0.070, accuracy: 0.980\n",
      "[7,   250] loss: 0.063, accuracy: 0.980\n",
      "[7,   300] loss: 0.074, accuracy: 0.976\n",
      "[7,   350] loss: 0.058, accuracy: 0.983\n",
      "[7,   400] loss: 0.075, accuracy: 0.978\n",
      "[7,   450] loss: 0.067, accuracy: 0.978\n",
      "[8,    50] loss: 0.058, accuracy: 0.980\n",
      "[8,   100] loss: 0.063, accuracy: 0.980\n",
      "[8,   150] loss: 0.057, accuracy: 0.981\n",
      "[8,   200] loss: 0.065, accuracy: 0.979\n",
      "[8,   250] loss: 0.061, accuracy: 0.981\n",
      "[8,   300] loss: 0.061, accuracy: 0.980\n",
      "[8,   350] loss: 0.062, accuracy: 0.980\n",
      "[8,   400] loss: 0.067, accuracy: 0.979\n",
      "[8,   450] loss: 0.064, accuracy: 0.978\n",
      "[9,    50] loss: 0.048, accuracy: 0.985\n",
      "[9,   100] loss: 0.057, accuracy: 0.980\n",
      "[9,   150] loss: 0.052, accuracy: 0.984\n",
      "[9,   200] loss: 0.051, accuracy: 0.985\n",
      "[9,   250] loss: 0.057, accuracy: 0.983\n",
      "[9,   300] loss: 0.058, accuracy: 0.983\n",
      "[9,   350] loss: 0.053, accuracy: 0.981\n",
      "[9,   400] loss: 0.057, accuracy: 0.982\n",
      "[9,   450] loss: 0.058, accuracy: 0.983\n",
      "[10,    50] loss: 0.051, accuracy: 0.985\n",
      "[10,   100] loss: 0.047, accuracy: 0.985\n",
      "[10,   150] loss: 0.052, accuracy: 0.984\n",
      "[10,   200] loss: 0.049, accuracy: 0.984\n",
      "[10,   250] loss: 0.047, accuracy: 0.986\n",
      "[10,   300] loss: 0.041, accuracy: 0.987\n",
      "[10,   350] loss: 0.045, accuracy: 0.986\n",
      "[10,   400] loss: 0.058, accuracy: 0.981\n",
      "[10,   450] loss: 0.062, accuracy: 0.981\n"
     ]
    }
   ],
   "source": [
    "# train model\n",
    "\n",
    "import torch.optim as optim\n",
    "from sklearn.metrics import precision_score, f1_score\n",
    "\n",
    "epochs = 10\n",
    "print_every_n_batches = 50\n",
    "\n",
    "net = Net().cuda()\n",
    "\n",
    "criterion = nn.CrossEntropyLoss()\n",
    "optimizer = optim.Adam(net.parameters(), lr=0.001)\n",
    "\n",
    "# metrics to calcuate\n",
    "accuracies = []\n",
    "losses = []\n",
    "f1s = []\n",
    "\n",
    "\n",
    "for epoch in range(epochs):\n",
    "        running_accuracy = 0.0\n",
    "        running_loss = 0.0\n",
    "        running_precision = 0.0\n",
    "        running_f1 = 0.0\n",
    "\n",
    "        for i, data in enumerate(trainloader, 0):\n",
    "            inputs, labels = data\n",
    "\n",
    "            inputs = inputs.cuda()\n",
    "            labels = labels.cuda()\n",
    "    \n",
    "            optimizer.zero_grad()\n",
    "    \n",
    "            # forward + backward + optimize\n",
    "            outputs = net(inputs)\n",
    "            loss = criterion(outputs, labels)\n",
    "            loss.backward()\n",
    "            optimizer.step()\n",
    "\n",
    "            # statistics\n",
    "            pred_labels = outputs.argmax(dim=1).cpu().detach().numpy()\n",
    "            true_labels = labels.cpu().detach().numpy()\n",
    "\n",
    "            running_accuracy += (outputs.argmax(dim=1) == labels).float().mean().item()\n",
    "            running_loss += loss.item()\n",
    "            \n",
    "            running_precision += precision_score(true_labels, pred_labels, average='macro', labels=np.unique(pred_labels))\n",
    "            running_f1 += f1_score(true_labels, pred_labels, average='macro', labels=np.unique(pred_labels))\n",
    "\n",
    "            if i % print_every_n_batches == print_every_n_batches - 1:\n",
    "                print('[%d, %5d] loss: %.3f, accuracy: %.3f' % (epoch + 1, i + 1, running_loss / print_every_n_batches, running_accuracy / print_every_n_batches))\n",
    "\n",
    "                losses.append(running_loss / print_every_n_batches)\n",
    "                accuracies.append(running_accuracy / print_every_n_batches)\n",
    "                precisions.append(running_precision / print_every_n_batches)\n",
    "                f1s.append(running_f1 / print_every_n_batches)\n",
    "\n",
    "                running_accuracy = running_loss = running_precision = running_f1 = 0.0"
   ]
  }
 ],
 "metadata": {
  "kernelspec": {
   "display_name": "MIO",
   "language": "python",
   "name": "python3"
  },
  "language_info": {
   "codemirror_mode": {
    "name": "ipython",
    "version": 3
   },
   "file_extension": ".py",
   "mimetype": "text/x-python",
   "name": "python",
   "nbconvert_exporter": "python",
   "pygments_lexer": "ipython3",
   "version": "3.10.10"
  }
 },
 "nbformat": 4,
 "nbformat_minor": 2
}
